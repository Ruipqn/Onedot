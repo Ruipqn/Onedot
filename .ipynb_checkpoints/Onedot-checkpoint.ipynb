{
 "cells": [
  {
   "cell_type": "code",
   "execution_count": 1,
   "id": "08e85d19",
   "metadata": {},
   "outputs": [],
   "source": [
    "#import libraries\n",
    "import pandas as pd\n",
    "import matplotlib.pyplot as plt\n",
    "import seaborn as sns\n",
    "from pandas.plotting import register_matplotlib_converters\n",
    "import pandas_profiling as pp\n",
    "from deep_translator import GoogleTranslator\n",
    "from geopy.geocoders import Nominatim\n",
    "import numpy as np\n"
   ]
  },
  {
   "cell_type": "code",
   "execution_count": 2,
   "id": "21f9234e",
   "metadata": {
    "scrolled": true
   },
   "outputs": [],
   "source": [
    "target = pd.read_excel('Target Data.xlsx')\n",
    "target.head()"
   ]
  },
  {
   "cell_type": "code",
   "execution_count": 3,
   "id": "0c912e67",
   "metadata": {},
   "outputs": [],
   "source": [
    "target.shape"
   ]
  },
  {
   "cell_type": "code",
   "execution_count": null,
   "id": "c819c943",
   "metadata": {},
   "outputs": [],
   "source": []
  },
  {
   "cell_type": "markdown",
   "id": "197ab51b",
   "metadata": {},
   "source": [
    "### Data Profiling"
   ]
  },
  {
   "cell_type": "code",
   "execution_count": 4,
   "id": "00c937af",
   "metadata": {
    "scrolled": true
   },
   "outputs": [],
   "source": [
    "data = pd.read_json('supplier_car.json', lines=True, encoding='utf-8')\n",
    "data.head()\n"
   ]
  },
  {
   "cell_type": "code",
   "execution_count": 5,
   "id": "ae0df19e",
   "metadata": {},
   "outputs": [],
   "source": [
    "data['Attribute Names'].unique()"
   ]
  },
  {
   "cell_type": "code",
   "execution_count": 6,
   "id": "c8788698",
   "metadata": {},
   "outputs": [],
   "source": [
    "data['Attribute Values'].unique()"
   ]
  },
  {
   "cell_type": "code",
   "execution_count": 7,
   "id": "5ec399d6",
   "metadata": {},
   "outputs": [],
   "source": [
    "data.shape"
   ]
  },
  {
   "cell_type": "code",
   "execution_count": 8,
   "id": "f78488af",
   "metadata": {},
   "outputs": [],
   "source": [
    "data.dtypes"
   ]
  },
  {
   "cell_type": "code",
   "execution_count": 9,
   "id": "9d9bcca4",
   "metadata": {},
   "outputs": [],
   "source": [
    "cat_vars = data.select_dtypes(include='object')\n",
    "data[cat_vars.columns] = data.select_dtypes(['object']).apply(lambda x: x.astype('category'))\n",
    "data.dtypes"
   ]
  },
  {
   "cell_type": "code",
   "execution_count": null,
   "id": "adf71092",
   "metadata": {},
   "outputs": [],
   "source": []
  },
  {
   "cell_type": "code",
   "execution_count": null,
   "id": "0b8c77d8",
   "metadata": {
    "scrolled": true
   },
   "outputs": [],
   "source": []
  },
  {
   "cell_type": "markdown",
   "id": "e0e89f91",
   "metadata": {},
   "source": [
    "#### Missing values"
   ]
  },
  {
   "cell_type": "code",
   "execution_count": 10,
   "id": "228201f9",
   "metadata": {},
   "outputs": [],
   "source": [
    "data.isna().sum()"
   ]
  },
  {
   "cell_type": "code",
   "execution_count": 11,
   "id": "43d8e855",
   "metadata": {},
   "outputs": [],
   "source": [
    "data.isna().sum().reset_index(name=\"n\").plot.bar(x='index', y='n', rot=45)"
   ]
  },
  {
   "cell_type": "markdown",
   "id": "a7b69f16",
   "metadata": {},
   "source": [
    "### Data distribution\n"
   ]
  },
  {
   "cell_type": "markdown",
   "id": "b8ddbae2",
   "metadata": {},
   "source": [
    "#### Numeric variables"
   ]
  },
  {
   "cell_type": "code",
   "execution_count": 12,
   "id": "e2313591",
   "metadata": {},
   "outputs": [],
   "source": [
    "register_matplotlib_converters()\n",
    "data.describe()"
   ]
  },
  {
   "cell_type": "code",
   "execution_count": 13,
   "id": "3254a499",
   "metadata": {},
   "outputs": [],
   "source": [
    "data.boxplot(rot=45)\n",
    "plt.show()"
   ]
  },
  {
   "cell_type": "code",
   "execution_count": 14,
   "id": "21b6a213",
   "metadata": {
    "scrolled": false
   },
   "outputs": [],
   "source": [
    "#pp.ProfileReport(data)"
   ]
  },
  {
   "cell_type": "markdown",
   "id": "d5133d53",
   "metadata": {},
   "source": [
    "### Pre processing"
   ]
  },
  {
   "cell_type": "code",
   "execution_count": 15,
   "id": "d99dd471",
   "metadata": {},
   "outputs": [],
   "source": [
    "target_cols_aux = data['Attribute Names'].unique()\n",
    "target_cols = ['MakeText','TypeName','TypeNameFull','ModelText','ModelTypeText']\n",
    "\n",
    "for x in target_cols_aux:\n",
    "    target_cols.append(x)\n",
    "target_cols"
   ]
  },
  {
   "cell_type": "code",
   "execution_count": 16,
   "id": "0760fe65",
   "metadata": {},
   "outputs": [],
   "source": [
    "target_df = pd.DataFrame(columns = target_cols)\n",
    "target_df"
   ]
  },
  {
   "cell_type": "code",
   "execution_count": 17,
   "id": "3930ce41",
   "metadata": {},
   "outputs": [],
   "source": [
    "target_df = data.reset_index().groupby(['ID','Attribute Names'])['Attribute Values'].aggregate('first').unstack()\n",
    "\n",
    "target_df = pd.DataFrame(target_df.to_records())\n",
    "#print(target_df.shape)\n",
    "target_df.head()"
   ]
  },
  {
   "cell_type": "code",
   "execution_count": 18,
   "id": "fea093a1",
   "metadata": {
    "scrolled": true
   },
   "outputs": [],
   "source": [
    "aux_df = data[['ID','MakeText','TypeName','TypeNameFull','ModelText','ModelTypeText']]\n",
    "aux_df = aux_df.drop_duplicates()\n",
    "#print(aux_df.shape)\n",
    "#aux_df.head()"
   ]
  },
  {
   "cell_type": "code",
   "execution_count": 19,
   "id": "08da51f9",
   "metadata": {},
   "outputs": [],
   "source": [
    "target_df = pd.merge(aux_df,target_df)\n",
    "target_df.set_index('ID',inplace = True)\n",
    "target_df.sort_values(by=['ID'], ascending=[True],inplace = True)\n",
    "target_df.columns"
   ]
  },
  {
   "cell_type": "code",
   "execution_count": 20,
   "id": "13f96aea",
   "metadata": {},
   "outputs": [],
   "source": [
    "geolocator = Nominatim(user_agent = \"geoapiExercises\")\n",
    "\n",
    "cities = target_df['City'].unique()\n",
    "dict_countries = {}\n",
    "\n",
    "for city in cities:\n",
    "    location = geolocator.geocode(city,exactly_one=True)\n",
    "    coord = str(location[-1][0]) +\",\"+ str(location[-1][1] )\n",
    "\n",
    "    raw = geolocator.reverse(coord)\n",
    "    address = raw.raw['address']\n",
    "    \n",
    "    country = address.get('country', '')\n",
    "    if country == 'Schweiz/Suisse/Svizzera/Svizra':\n",
    "        country = 'Switzerland'\n",
    "    code = address.get('country_code').upper()    \n",
    "    dict_countries[city] = [code,country]\n",
    "\n",
    "\n",
    "#print(dict_countries)\n"
   ]
  },
  {
   "cell_type": "code",
   "execution_count": 21,
   "id": "47e98cd8",
   "metadata": {},
   "outputs": [],
   "source": [
    "#reorder and rename columns\n",
    "column_order = [\"BodyTypeText\", \"BodyColorText\",'ConditionTypeText', 'City','Country', 'MakeText', 'FirstRegYear', 'Km','mileage_unit', 'TypeName',\n",
    "                'ModelTypeText', 'FirstRegMonth','Zip', 'ConsumptionTotalText','TypeNameFull', 'ModelText','Ccm', 'Co2EmissionText',\n",
    "                'ConsumptionRatingText','Doors', 'DriveTypeText','FuelTypeText', 'Hp', 'InteriorColorText','Properties', \n",
    "                'Seats','TransmissionTypeText']\n",
    "\n",
    "target_df = target_df.reindex(columns=column_order)\n",
    "\n",
    "\n",
    "\n",
    "column_names = {\"BodyTypeText\":'carType', \"BodyColorText\":'color','ConditionTypeText':'condition', 'MakeText':'make',\n",
    "                'FirstRegYear':'manufacture_year', 'Km':'mileage', 'TypeName':'model','ModelTypeText':'model_variant',\n",
    "                'FirstRegMonth':'manufacture_month', 'ConsumptionTotalText':'fuel_consumption_unit'}\n",
    "\n",
    "target_df = target_df.rename(columns=column_names, errors=\"raise\")\n",
    "\n",
    "target_df['mileage_unit'] = np.where(target_df['mileage'].isnull(), 'null',target_df['mileage_unit'])\n",
    "target_df['mileage_unit'] = np.where(target_df['mileage'] != 'null', 'kilometer' , target_df['mileage_unit'])\n",
    "\n",
    "for city in dict_countries.keys():\n",
    "    target_df['Country'] = np.where(target_df['City'] == city, dict_countries[city][0],target_df['Country'])\n",
    "    target_df['Zip'] = np.where(target_df['City'] == city, dict_countries[city][1],target_df['Zip'])\n",
    "target_df.head()"
   ]
  },
  {
   "cell_type": "code",
   "execution_count": null,
   "id": "0d52b304",
   "metadata": {},
   "outputs": [],
   "source": []
  },
  {
   "cell_type": "code",
   "execution_count": 22,
   "id": "e75c0129",
   "metadata": {},
   "outputs": [],
   "source": [
    "target_df1 = target_df.copy()"
   ]
  },
  {
   "cell_type": "markdown",
   "id": "2120abff",
   "metadata": {},
   "source": [
    "#### Normalization"
   ]
  },
  {
   "cell_type": "code",
   "execution_count": 23,
   "id": "69581694",
   "metadata": {},
   "outputs": [],
   "source": [
    "#In this stage it is necessary to, at least, alter condition and color to english and the comsumption fuel to only present the units\n",
    "\n",
    "'''\n",
    "Occasion -> Occasion\n",
    "neu -> New\n",
    "oldtimer -> Used\n",
    "\n",
    "vorführmodell -> demonstration model\n",
    "'''\n",
    "target_df['condition'] = target_df['condition'].map(lambda x: x.lower())\n",
    "target_df['condition'] = target_df['condition'].replace({'neu': 'new', 'oldtimer': 'used','vorführmodell':'demonstration model'})\n",
    "\n"
   ]
  },
  {
   "cell_type": "code",
   "execution_count": 24,
   "id": "37b8f9ac",
   "metadata": {},
   "outputs": [],
   "source": [
    "\n",
    "dict_colors = {'anthrazit':'anthracite','amaranth': 'amaranth', 'bernstein': 'amber', 'amethyst': 'amethyst', 'aprikose': 'apricot',\n",
    "               'aquamarin': 'aquamarine', 'azurblau': 'azure', 'baby blau': 'baby blue', 'beige': 'beige',\n",
    "               'schwarz': 'black', 'blau': 'blue','bordeaux':'bordeaux', 'blau grün': 'blue-green','blau grun': 'blue-green', 'blau violett': 'blue-violet',\n",
    "               'erröten': 'blush', 'ziegelrot': 'brick red', 'bronze': 'bronze', 'braun': 'brown',\n",
    "               'burgund': 'burgundy', 'byzanz': 'byzantium', 'karminrot': 'carmine', 'cerise': 'cerise',\n",
    "               'himmelblau': 'cerulean', 'champagner': 'champagne', 'chartreuse grün': 'chartreuse green',\n",
    "               'schokolade': 'chocolate', 'kobaltblau': 'cobalt blue', 'kaffee': 'coffee', 'kupfer': 'copper',\n",
    "               'koralle': 'coral', 'purpur': 'crimson', 'cyan': 'cyan', 'wüstensand': 'desert sand',\n",
    "               'elektrisches blau': 'electric blue', 'smaragd': 'emerald', 'erina': 'erin', 'gold': 'gold',\n",
    "               'grau': 'gray', 'grün': 'green', 'harlekin': 'harlequin', 'indigo': 'indigo', 'elfenbein': 'ivory',\n",
    "               'jade': 'jade', 'dschungelgrün': 'jungle green', 'lavendel': 'lavender', 'zitrone': 'lemon',\n",
    "               'lila': 'purple', 'limette': 'lime', 'magenta': 'magenta', 'magentarose': 'magenta rose',\n",
    "               'kastanienbraun': 'maroon', 'mauve': 'mauve', 'navy blau': 'navy blue', 'ocker': 'ochre',\n",
    "               'olive': 'olive', 'orange': 'orange', 'orange rot': 'orange-red', 'orchidee': 'orchid', 'pfirsich': 'peach',\n",
    "               'birne': 'pear', 'immergrün': 'periwinkle', 'persisches blau': 'persian blue', 'rosa': 'pink',\n",
    "               'pflaume': 'plum', 'preußischblau': 'prussian blue','preussischblau': 'prussian blue', 'puce': 'puce', 'himbeere': 'raspberry', 'rot': 'red',\n",
    "               'rot-violett': 'red-violet', 'rose': 'rose', 'rubin': 'ruby', 'lachs': 'salmon', 'sangria': 'sangria',\n",
    "               'saphir': 'sapphire', 'scharlachrot': 'scarlet', 'silber': 'silver', 'schiefer grau': 'slate gray', \n",
    "               'frühlingsknospe': 'spring bud', 'frühlingsgrün': 'spring green','fruhlingsgrun': 'spring green',\n",
    "               'bräunen': 'tan','braunen': 'tan', 'taupe': 'taupe',\n",
    "               'blaugrün': 'teal', 'türkis': 'turquoise', 'ultramarin': 'ultramarine', 'violett': 'violet',\n",
    "               'viridian': 'viridian', 'weiß': 'white','weiss': 'white', 'gelb': 'yellow'}\n",
    "\n",
    "\n",
    "target_df['color'] = target_df['color'].map(lambda x: x.split()[0])\n",
    "target_df['color'] = target_df['color'].map(lambda x: x.lower())\n",
    "target_df['color'] = target_df['color'].replace(dict_colors)\n"
   ]
  },
  {
   "cell_type": "code",
   "execution_count": 25,
   "id": "81880753",
   "metadata": {},
   "outputs": [],
   "source": [
    "\n",
    "target_df['fuel_consumption_unit'] = target_df['fuel_consumption_unit'].map(lambda x: ''.join([i for i in x if not i.isdigit()]))\n",
    "target_df['fuel_consumption_unit'] = target_df['fuel_consumption_unit'].map(lambda x: x.replace('.','').replace(' ','').replace('/','_'))\n",
    "target_df['fuel_consumption_unit'] = target_df['fuel_consumption_unit'].map(lambda x: x + '_consumption' if 'null' not in x else x)\n",
    "#target_df['fuel_consumption_unit'].unique()"
   ]
  },
  {
   "cell_type": "code",
   "execution_count": 26,
   "id": "7dc3bbca",
   "metadata": {},
   "outputs": [],
   "source": [
    "target_df2 = target_df.copy()\n",
    "#target_df.columns"
   ]
  },
  {
   "cell_type": "markdown",
   "id": "3b4de49b",
   "metadata": {},
   "source": [
    "### Data Integration"
   ]
  },
  {
   "cell_type": "code",
   "execution_count": 27,
   "id": "fcbf3056",
   "metadata": {},
   "outputs": [],
   "source": [
    "target_df3 = target_df.reset_index(drop=True)\n",
    "target_df3 = target_df3.drop(columns=['TypeNameFull',\n",
    "       'ModelText', 'Ccm', 'Co2EmissionText', 'ConsumptionRatingText', 'Doors',\n",
    "       'DriveTypeText', 'FuelTypeText', 'Hp', 'InteriorColorText',\n",
    "       'Properties', 'Seats', 'TransmissionTypeText'])\n",
    "target_df3.head()\n"
   ]
  },
  {
   "cell_type": "code",
   "execution_count": 28,
   "id": "2399bef3",
   "metadata": {},
   "outputs": [],
   "source": [
    "\n",
    "with pd.ExcelWriter('output.xlsx') as writer:  \n",
    "    target_df1.to_excel(writer, sheet_name='pre-processing')\n",
    "    target_df2.to_excel(writer, sheet_name='normalisation')\n",
    "    target_df3.to_excel(writer, sheet_name='integration', index=False)"
   ]
  },
  {
   "cell_type": "code",
   "execution_count": null,
   "id": "2ff3c896",
   "metadata": {},
   "outputs": [],
   "source": []
  }
 ],
 "metadata": {
  "kernelspec": {
   "display_name": "Python 3",
   "language": "python",
   "name": "python3"
  },
  "language_info": {
   "codemirror_mode": {
    "name": "ipython",
    "version": 3
   },
   "file_extension": ".py",
   "mimetype": "text/x-python",
   "name": "python",
   "nbconvert_exporter": "python",
   "pygments_lexer": "ipython3",
   "version": "3.8.10"
  }
 },
 "nbformat": 4,
 "nbformat_minor": 5
}
